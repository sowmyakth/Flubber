{
 "cells": [
  {
   "cell_type": "code",
   "execution_count": 16,
   "metadata": {
    "collapsed": true
   },
   "outputs": [],
   "source": [
    "import numpy as np\n",
    "import matplotlib.pyplot as plt\n",
    "%matplotlib inline\n",
    "from sklearn import mixture\n",
    "from scipy.integrate import quad, dblquad\n",
    "from IPython.display import Image\n",
    "plt.rcParams['figure.figsize'] = (12.0, 8.0) "
   ]
  },
  {
   "cell_type": "code",
   "execution_count": 23,
   "metadata": {
    "collapsed": false
   },
   "outputs": [
    {
     "data": {
      "image/png": "[encoded data removed]",
      "text/plain": [
       "<matplotlib.figure.Figure at 0x113fbc6d0>"
      ]
     },
     "metadata": {},
     "output_type": "display_data"
    }
   ],
   "source": [
    "data=np.loadtxt('intrinsic_shape.dat')\n",
    "e1,e2=data[0],data[1]\n",
    "e=(e1**2+e2**2)**0.5\n",
    "\n",
    "theta=np.arctan(e2/e1)\n",
    "plt.figure(figsize=[16,10])\n",
    "plt.subplot(3,3,1)\n",
    "plt.hist(e,np.linspace(0,1,20))\n",
    "plt.xlabel('|e|')\n",
    "plt.subplot(3,3,2)\n",
    "plt.hist(theta,20)\n",
    "plt.xlabel(r'2$\\beta $')\n",
    "plt.show()"
   ]
  },
  {
   "cell_type": "code",
   "execution_count": 29,
   "metadata": {
    "collapsed": false
   },
   "outputs": [],
   "source": [
    "rshr=0.04\n",
    "theta=np.random.uniform(-np.pi/2, np.pi/2, len(e1))\n",
    "\n",
    "e_lens_obt=np.zeros(len(e1))\n",
    "\n",
    "e1_obt=np.zeros(len(e1))\n",
    "e2_obt=np.zeros(len(e1))\n",
    "for i in range(len(e1)):\n",
    "    e_obt=complex(e1[i],e2[i])\n",
    "    g_obt=complex(rshr,0)\n",
    "    e_lens=(e_obt+g_obt)/(1+g_obt.conjugate()*e_obt)\n",
    "    e_lens_obt[i]=abs(e_lens)\n",
    "    e1_obt[i]=e_lens.real\n",
    "    e2_obt[i]=e_lens.imag"
   ]
  },
  {
   "cell_type": "code",
   "execution_count": 31,
   "metadata": {
    "collapsed": false
   },
   "outputs": [
    {
     "data": {
      "text/plain": [
       "0.16487644215400729"
      ]
     },
     "execution_count": 31,
     "metadata": {},
     "output_type": "execute_result"
    }
   ],
   "source": [
    "np.mean(e1)"
   ]
  },
  {
   "cell_type": "code",
   "execution_count": 30,
   "metadata": {
    "collapsed": false
   },
   "outputs": [
    {
     "data": {
      "image/png": "[encoded data removed]",
      "text/plain": [
       "<matplotlib.figure.Figure at 0x113b91e10>"
      ]
     },
     "metadata": {},
     "output_type": "display_data"
    }
   ],
   "source": [
    "theta=np.arctan(e2_obt/e1_obt)\n",
    "plt.figure(figsize=[16,10])\n",
    "plt.subplot(3,3,1)\n",
    "plt.hist(e_lens_obt,np.linspace(0,1,20))\n",
    "plt.xlabel('|e|')\n",
    "plt.subplot(3,3,2)\n",
    "plt.hist(theta,20)\n",
    "plt.xlabel(r'2$\\beta $')\n",
    "plt.show()"
   ]
  },
  {
   "cell_type": "code",
   "execution_count": null,
   "metadata": {
    "collapsed": true
   },
   "outputs": [],
   "source": []
  }
 ],
 "metadata": {
  "kernelspec": {
   "display_name": "Python 2",
   "language": "python",
   "name": "python2"
  },
  "language_info": {
   "codemirror_mode": {
    "name": "ipython",
    "version": 2
   },
   "file_extension": ".py",
   "mimetype": "text/x-python",
   "name": "python",
   "nbconvert_exporter": "python",
   "pygments_lexer": "ipython2",
   "version": "2.7.10"
  }
 },
 "nbformat": 4,
 "nbformat_minor": 0
}
